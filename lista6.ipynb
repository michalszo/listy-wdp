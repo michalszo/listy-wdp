{
 "cells": [
  {
   "cell_type": "markdown",
   "id": "817cd8f2",
   "metadata": {},
   "source": [
    "# Wstęp do programowania\n",
    "## Lista 6\n",
    "\n",
    "Uzupełnij swoje dane poniżej, następnie przeczytaj treść zadań i umieść rozwiązania w odpowidenich komórkach pozostawionych w tym celu pod treścią. Pamiętaj dbać o specyfikację, czyli nazwy zmiennych oraz odpowiednie rozmieszczenie komórek. Jeśli uruchomisz wszystkie komórki, dokument powinien działać bez błędów."
   ]
  },
  {
   "cell_type": "markdown",
   "id": "76926f19",
   "metadata": {},
   "source": [
    "  * **Imię:** x\n",
    "  * **Nazwisko:** x\n",
    "  * **Numer indeksu:** x"
   ]
  },
  {
   "cell_type": "markdown",
   "id": "f179d9a1",
   "metadata": {},
   "source": [
    "W rozwiązaniach zadań możesz korzystać z wielu bibliotek. Do obliczeń `math`, `numpy` oraz `sympy`. Do wizualizacji `matplotlib.pyplot` oraz `ipywidgets`. Testy możesz wykonywać za pomocą modułów `unittest` oraz `doctest`."
   ]
  },
  {
   "cell_type": "code",
   "execution_count": 3,
   "id": "2ceefa09",
   "metadata": {
    "editable": true,
    "slideshow": {
     "slide_type": ""
    },
    "tags": []
   },
   "outputs": [],
   "source": [
    "import math\n",
    "import unittest\n",
    "import doctest\n",
    "import numpy as np\n",
    "import sympy as sp\n",
    "import matplotlib.pyplot as plt\n",
    "import ipywidgets as widgets\n",
    "from ipywidgets import interact\n",
    "from hypothesis import given, strategies as st"
   ]
  },
  {
   "cell_type": "markdown",
   "id": "1a39d3f3",
   "metadata": {},
   "source": [
    "### Zadanie 1\n",
    "\n",
    "Przypomnij sobie zadanie o spirali archimedejskiej (zadanie 3 z listy 5).\n",
    "\n",
    "Spróbuj stworzyć interaktywny interfejs do wizualizacji tego, jak wybrane parametry wpływają na kształt spirali.\n",
    "\n",
    "Rozwiązanie umieść w komórce poniżej."
   ]
  },
  {
   "cell_type": "code",
   "execution_count": 13,
   "id": "4076f649",
   "metadata": {},
   "outputs": [
    {
     "data": {
      "application/vnd.jupyter.widget-view+json": {
       "model_id": "cb4f1a55339146e8a7c8dc44a3a5a0b8",
       "version_major": 2,
       "version_minor": 0
      },
      "text/plain": [
       "interactive(children=(FloatSlider(value=1.0, description='a', max=8.0, min=0.1), FloatSlider(value=1.0, descri…"
      ]
     },
     "metadata": {},
     "output_type": "display_data"
    }
   ],
   "source": [
    "@interact(a=(0.1, 8.0), n=(0.1, 4.0))\n",
    "def rysuj(a=1, n=1):\n",
    "    theta = np.linspace(0, 2*math.pi, 100)\n",
    "    r = a*theta**(1/n)\n",
    "    \n",
    "    wykres = plt.subplot(111, projection='polar')\n",
    "    wykres.plot(theta, r, color='r', linewidth=3)\n",
    "    wykres.set_rmax(a*(2*math.pi)**(1/n)*1.05)\n",
    "    wykres.grid(True)"
   ]
  },
  {
   "cell_type": "markdown",
   "id": "c9490bc8",
   "metadata": {},
   "source": [
    "### Zadanie 2\n",
    "\n",
    "Zaprojektuj testy jednostkowe sprawdzające, że funkcja `max` z Pythona działa dobrze dla list liczb całkowitych i zmiennoprzecinkowych bez `NaN`. Napisz przynajmniej 3 testy za pomocą modułu `unittest`. Kod testów umieść w komórce poniżej."
   ]
  },
  {
   "cell_type": "code",
   "execution_count": 27,
   "id": "eb82466d-97e1-4703-b86a-9c6d56f88988",
   "metadata": {},
   "outputs": [],
   "source": [
    "@unittest.FunctionTestCase\n",
    "def test_calkowite():\n",
    "    assert max(-5, 10) == 10, \"Tu nigdy nie powinno być błędu\"\n",
    "    assert max(7, 8) == 8, \"Tu nigdy nie powinno być błędu\"\n",
    "    assert max(5, 5) == 5, \"Tu nigdy nie powinno być błędu\"\n",
    "    assert max(-3, -4) == -3, \"Tu nigdy nie powinno być błędu\"\n",
    "\n",
    "@unittest.FunctionTestCase\n",
    "def test_rzeczywiste():\n",
    "    assert max(-5.3, 10.4) == 10.4, \"Tu nigdy nie powinno być błędu\"\n",
    "    assert max(math.pi, math.e) == math.pi, \"Tu nigdy nie powinno być błędu\"\n",
    "    assert max(5.123, 5.123) == 5.123, \"Tu nigdy nie powinno być błędu\"\n",
    "    assert max(-3.1, -4.3) == -3.1, \"Tu nigdy nie powinno być błędu\"\n",
    "\n",
    "@unittest.FunctionTestCase\n",
    "def test_mieszane():\n",
    "    assert max(-5.3, 10) == 10, \"Tu nigdy nie powinno być błędu\"\n",
    "    assert max(math.e, 0) == math.e, \"Tu nigdy nie powinno być błędu\"\n",
    "    assert max(5, 5.01) == 5.01, \"Tu nigdy nie powinno być błędu\"\n",
    "    assert max(-3, -4.3) == -3, \"Tu nigdy nie powinno być błędu\""
   ]
  },
  {
   "cell_type": "markdown",
   "id": "0793e0ae-cd83-44d6-bc01-72da6dbcd0ce",
   "metadata": {},
   "source": [
    "Uruchomienie testów umieść w komórce poniżej."
   ]
  },
  {
   "cell_type": "code",
   "execution_count": 29,
   "id": "4e8cd72f-46e7-4508-92d2-c0ddd03fef5e",
   "metadata": {},
   "outputs": [
    {
     "name": "stderr",
     "output_type": "stream",
     "text": [
      "...\n",
      "----------------------------------------------------------------------\n",
      "Ran 3 tests in 0.008s\n",
      "\n",
      "OK\n"
     ]
    }
   ],
   "source": [
    "suite = unittest.TestSuite()\n",
    "suite.addTest(test_calkowite)\n",
    "suite.addTest(test_rzeczywiste)\n",
    "suite.addTest(test_mieszane)\n",
    "assert unittest.TextTestRunner().run(suite)"
   ]
  },
  {
   "attachments": {},
   "cell_type": "markdown",
   "id": "3c1b52a8",
   "metadata": {},
   "source": [
    "### Zadanie 3\n",
    "\n",
    "Przypomnij sobie zadanie o funkcjach do liczenia liczby dni pomiędzy datami (zadanie 2 lista 4). Rozbuduj funkcje `ile_dni` oraz `dzień_juliański` tak, aby zgłaszały odpowiednie wyjątki, gdy użytkownik ich źle użyje.\n",
    "\n",
    "Kod umieść w komórce poniżej."
   ]
  },
  {
   "cell_type": "code",
   "execution_count": 127,
   "id": "f4281b8c",
   "metadata": {},
   "outputs": [],
   "source": [
    "def dzien_julianski(D, M, R):\n",
    "    if type(R) != int or R <= 0:\n",
    "        raise ValueError(\"Rok musi być liczbą całkowitą większą od 0\")\n",
    "    if type(M) != int or not (1 <= M <= 12):\n",
    "        raise ValueError(\"Miesiąc musi być liczbą całkowitą od 1 do 12\")\n",
    "    if type(D) != int or not (1 <= D <= 31):\n",
    "        raise ValueError(\"Dzień musi być liczbą całkowitą od 1 do 31\")\n",
    "    if (D == 31 and M in [2, 4, 6, 9, 11]) or (D == 30 and M == 2):\n",
    "        raise ValueError(\"Podany dzień nie istnieje w podanym miesiącu\")\n",
    "    if M == 2 and D == 29 and not ((R % 4 == 0 and R % 100 != 0) or R % 400 == 0):\n",
    "        raise ValueError(\"Próbowano policzyć dzień juliański 29 lutego roku nieprzestępnego\")\n",
    "    a = math.floor((14 - M)/12)\n",
    "    y = R + 4800 - a\n",
    "    m = M + 12*a - 3\n",
    "    return D + math.floor((153*m+2)/5) + 365*y + math.floor(y/4) - math.floor(y/100) + math.floor(y/400) - 32045\n",
    "\n",
    "def ile_dni(data1, data2):\n",
    "    if len(data1) != 3 or type(data1) != tuple:\n",
    "        raise ValueError(\"Data (1) musi być 3 elementową krotką\")\n",
    "    if len(data2) != 3 or type(data2) != tuple:\n",
    "        raise ValueError(\"Data (2) musi być 3 elementową krotką\")\n",
    "    return dzien_julianski(*data2) - dzien_julianski(*data1) # Wykonanie funkcji dzień juliański zgłosi pozostałe błędy\n",
    "\n",
    "# print(dzien_julianski(28, 2, 2023))\n",
    "# print(ile_dni((4, 11, 2000), (31, 12, 2024)))"
   ]
  },
  {
   "cell_type": "markdown",
   "id": "73e32195",
   "metadata": {},
   "source": [
    "### Zadanie 4\n",
    "\n",
    "Przypomnij sobie funkcję do wyliczania objętości hiperkuli (zadanie 6 lista 4). Dodaj do niej dokumentację opisującą użycie funkcji oraz przykładowe testy, które sprawdzisz modułem `doctest`.\n",
    "\n",
    "Rozwiązanie umieść w komórce poniżej."
   ]
  },
  {
   "cell_type": "code",
   "execution_count": 174,
   "id": "9f2e7d0a",
   "metadata": {},
   "outputs": [],
   "source": [
    "def hiperkula(r, n):\n",
    "    \"\"\"Funkcja obliczająca objętość hiperkuli.\n",
    "    Dla dowolnej liczby rzeczywistej nieujemnej `r` oraz dodatniej liczby naturalnej `n`, funkcja zwraca objętość n-wymiarowej hiperkuli o promieniu r.\n",
    "    >>> hiperkula(1, 2)\n",
    "    3.141592653589793\n",
    "    >>> hiperkula(0, 10)\n",
    "    0.0\n",
    "    >>> hiperkula(math.pi, 3)\n",
    "    129.87878804533656\n",
    "    >>> hiperkula(10*math.e, 3)\n",
    "    84134.10032172385\n",
    "    \"\"\"\n",
    "    if (type(r) != int and type(r) != float) or r < 0:\n",
    "        raise ValueError(\"r musi być nieujemną liczbą rzeczywistą\")\n",
    "    if type(n) != int or n <= 0:\n",
    "        raise ValueError(\"n musi być dodatnią liczbą naturalną\")\n",
    "    return (math.pi**(n/2)/math.gamma(n/2+1))*(r**n)\n",
    "\n",
    "# print(hiperkula(1, 2))\n",
    "# print(hiperkula(0, 10))\n",
    "# print(hiperkula(math.pi, 3))\n",
    "# print(hiperkula(10*math.e, 3))"
   ]
  },
  {
   "cell_type": "markdown",
   "id": "4312e388-11ae-42ec-90d7-d454f4a74427",
   "metadata": {},
   "source": [
    "Uruchom opracowane testy, aby sprawdzić, czy dobrze działają."
   ]
  },
  {
   "cell_type": "code",
   "execution_count": 172,
   "id": "f6866964-164c-4f25-8f52-cf41cdf0ef33",
   "metadata": {},
   "outputs": [
    {
     "data": {
      "text/plain": [
       "TestResults(failed=0, attempted=4)"
      ]
     },
     "execution_count": 172,
     "metadata": {},
     "output_type": "execute_result"
    }
   ],
   "source": [
    "doctest.testmod()"
   ]
  },
  {
   "cell_type": "markdown",
   "id": "7efa91a8",
   "metadata": {},
   "source": [
    "### Zadanie 5\n",
    "\n",
    "Wybierz dowolne zadanie z kursu Analiza matematyczna, spróbuj je rozwiązać za pomocą biblioteki SymPy.\n",
    "\n",
    "Treść zadania umieść w komórce tekstowej poniżej, zadbaj o formatowanie tekstu oraz wzorów."
   ]
  },
  {
   "cell_type": "markdown",
   "id": "677754f5-b1b4-4664-836a-f7a22e38cd3a",
   "metadata": {},
   "source": [
    "Oblicz granicę:\n",
    "$\\displaystyle \\lim_{n \\to \\infty}(n^2 - n)$"
   ]
  },
  {
   "cell_type": "markdown",
   "id": "57e035bd",
   "metadata": {},
   "source": [
    "Rozwiązanie wybranego zadania umieść w komórce poniżej."
   ]
  },
  {
   "cell_type": "code",
   "execution_count": 76,
   "id": "767b23c8",
   "metadata": {},
   "outputs": [
    {
     "data": {
      "text/latex": [
       "$\\displaystyle \\infty$"
      ],
      "text/plain": [
       "oo"
      ]
     },
     "execution_count": 76,
     "metadata": {},
     "output_type": "execute_result"
    }
   ],
   "source": [
    "n = sp.Symbol('n', real=True, positive=True)\n",
    "\n",
    "sp.limit(n**2 - n, n, sp.oo)"
   ]
  },
  {
   "cell_type": "markdown",
   "id": "981b6942-e52f-4d08-9eb8-a3b584e0f858",
   "metadata": {},
   "source": [
    "### Zadanie 6\n",
    "\n",
    "Przypomnij sobie zadanie 2 z listy 1, dotyczące opłacalności zakupu pizzy na kawałki, następnie posiłkując się dokumentacją, przeanalizuj kod poniżej."
   ]
  },
  {
   "cell_type": "code",
   "execution_count": 59,
   "id": "97e7f4bb-8070-41f5-a3b0-3d4fc9efead1",
   "metadata": {},
   "outputs": [
    {
     "data": {
      "application/vnd.jupyter.widget-view+json": {
       "model_id": "53079c5487e54f9a97e3325a44a38a65",
       "version_major": 2,
       "version_minor": 0
      },
      "text/plain": [
       "VBox(children=(GridBox(children=(ToggleButtons(description='Pizza: ', options=('Okrągła', 'Prostokątna'), valu…"
      ]
     },
     "execution_count": 59,
     "metadata": {},
     "output_type": "execute_result"
    }
   ],
   "source": [
    "items = [\n",
    "    toggle := widgets.ToggleButtons(options=['Okrągła', 'Prostokątna'], description='Pizza: '),\n",
    "    widgets.VBox([label1 := widgets.Label(value=\"Promień (cm): \"), val1 := widgets.FloatSlider()]),\n",
    "    widgets.VBox([label2 := widgets.Label(value=\"Kąt (stopnie): \"), val2 := widgets.FloatSlider()]),\n",
    "]\n",
    "\n",
    "def update1(change):\n",
    "    if change.new==\"Okrągła\":\n",
    "        label1.value = \"Promień (cm): \"\n",
    "    else:\n",
    "        label1.value = \"Szerokość (cm): \"\n",
    "\n",
    "def update2(change):\n",
    "    if change.new==\"Okrągła\":\n",
    "        label2.value = \"Kąt (stopnie): \"\n",
    "    else:\n",
    "        label2.value = \"Wysokość (cm): \"\n",
    "\n",
    "toggle.observe(update1, names='value')\n",
    "toggle.observe(update2, names='value')\n",
    "\n",
    "def refresh_output(shape, par1, par2):\n",
    "    print(\"Pizza\", shape, \"» Pole =\", float(par1)*float(par2) if shape==\"Prostokątna\" else math.pi*float(par1)**2*float(par2)/360)\n",
    "        \n",
    "widgets.VBox([\n",
    "    widgets.GridBox(items, layout=widgets.Layout(grid_template_columns=\"repeat(3, 350px)\")),\n",
    "    widgets.interactive_output(refresh_output, {'shape': toggle, 'par1': val1, 'par2': val2})\n",
    "])"
   ]
  },
  {
   "cell_type": "markdown",
   "id": "d04917bf-83c8-4a9f-9016-17768444cf69",
   "metadata": {},
   "source": [
    "Zaproponuj interaktywny Interfejs, w którym można wprowadzić rodzaj, cenę oraz rozmiar trzech kawałków pizzy, po czym obliczona zostanie opłacalność każdej z możliwości. Wykonaj też ilustrację każdej z trzech opcji, zamalowując odpowiednie kawałki figur i zachowując skalę, aby można było porównać kawałki wizualnie. Zadbaj o lepszy rodzaj pól do wprowadzania kawałków pizzy, mając na uwadze na przykład, że kąt może przyjmować wartości od 0 do 360 stopni.\n",
    "\n",
    "Rozwiązanie umieść w komórce poniżej."
   ]
  },
  {
   "cell_type": "code",
   "execution_count": 11,
   "id": "05f76632-f2c5-43ce-ab9b-557ef929e87c",
   "metadata": {},
   "outputs": [
    {
     "data": {
      "application/vnd.jupyter.widget-view+json": {
       "model_id": "0f721144838d4c1bbb38a9b8609c1048",
       "version_major": 2,
       "version_minor": 0
      },
      "text/plain": [
       "VBox(children=(GridBox(children=(ToggleButtons(description='Pizza nr 1: ', options=('Okrągła', 'Prostokątna'),…"
      ]
     },
     "execution_count": 11,
     "metadata": {},
     "output_type": "execute_result"
    }
   ],
   "source": [
    "# plt.figure(figsize=(6, 6))\n",
    "\n",
    "PIZZE = 3\n",
    "\n",
    "items = []\n",
    "for i in range(PIZZE):\n",
    "    items += eval(\n",
    "f'''\n",
    "\n",
    "[\n",
    "    toggle_{i} := widgets.ToggleButtons(options=[\"Okrągła\", \"Prostokątna\"], description='Pizza nr {i+1}: '),\n",
    "    widgets.VBox([label1_{i} := widgets.Label(value=\"Promień (cm): \"), val1_{i} := widgets.FloatSlider(min=0.5, max=50, step=0.5, value=10)]),\n",
    "    widgets.VBox([label2_{i} := widgets.Label(value=\"Kąt (stopnie): \"), val2_{i} := widgets.FloatSlider(min=0.5, max=360, step=0.5, value=10)]),\n",
    "    widgets.VBox([widgets.Label(value=\"Cena za kawałek (zł): \"), val3_{i} := widgets.FloatSlider(min=0.1, max=100, step=0.1, value=10)]),\n",
    "]\n",
    "\n",
    "'''.strip())\n",
    "\n",
    "zmienne = []\n",
    "for i in range(PIZZE):\n",
    "    zmienne += eval(f'[(\"shape_{i}\", toggle_{i}), (\"par1_{i}\", val1_{i}), (\"par2_{i}\", val2_{i}), (\"cena_{i}\", val3_{i})]')\n",
    "zmienne = dict(zmienne)\n",
    "\n",
    "def refresh_output(**kwargs):\n",
    "    pizze = [\n",
    "        {\"shape\": kwargs[f\"shape_{i}\"], \"par1\": kwargs[f\"par1_{i}\"], \"par2\": kwargs[f\"par2_{i}\"], \"cena\": kwargs[f\"cena_{i}\"]} for i in range(PIZZE)\n",
    "    ]\n",
    "    pola = []\n",
    "    ceny_cm2 = []\n",
    "    for i, j in enumerate(pizze):\n",
    "        shape, par1, par2, cena = j[\"shape\"], j[\"par1\"], j[\"par2\"], j[\"cena\"]\n",
    "        exec(\n",
    "f'''\n",
    "\n",
    "if shape==\"Okrągła\":\n",
    "    label1_{i}.value = \"Promień (cm): \"\n",
    "    label2_{i}.value = \"Kąt (stopnie): \"\n",
    "    val2_{i}.max = 360\n",
    "else:\n",
    "    label1_{i}.value = \"Szerokość (cm): \"\n",
    "    label2_{i}.value = \"Wysokość (cm): \"\n",
    "    val2_{i}.max = 50\n",
    "\n",
    "'''.strip())\n",
    "        shape, par1, par2, cena = j[\"shape\"], j[\"par1\"], j[\"par2\"], j[\"cena\"]\n",
    "        pole = float(par1)*float(par2) if shape==\"Prostokątna\" else math.pi*float(par1)**2*float(par2)/360\n",
    "        cena_za_cm2 = cena/pole\n",
    "        print(f\"Pizza {i+1}: {pole:.2f}cm2, {cena_za_cm2:.2f}zł/cm2\")\n",
    "        if pizze[i][\"shape\"] == \"Prostokątna\":\n",
    "            x = np.array([-.5, .5, .5, -.5, -.5]) * pizze[i][\"par1\"]\n",
    "            y = np.array([-.5, -.5, .5, .5, -.5]) * pizze[i][\"par2\"]\n",
    "        \n",
    "        else:\n",
    "            theta = np.linspace(0, np.radians(par2), 100)\n",
    "            x = par1 * np.cos(theta)\n",
    "            y = par1 * np.sin(theta)\n",
    "            x = np.append(x, 0)\n",
    "            y = np.append(y, 0)\n",
    "        plt.fill(x, y, alpha=0.5, linewidth=2)\n",
    "    ax = plt.gca()\n",
    "    ax.set_aspect('equal', adjustable='box')\n",
    "\n",
    "widgets.VBox([\n",
    "    widgets.GridBox(items, layout=widgets.Layout(grid_template_columns=\"185px 305px 305px 305px\")),\n",
    "    widgets.interactive_output(refresh_output, zmienne)\n",
    "])"
   ]
  },
  {
   "cell_type": "markdown",
   "id": "3d7a18a0",
   "metadata": {},
   "source": [
    "<div style=\"text-align: right\"> Powodzenia!<br><i>Zespół kursu Wstęp do programowania</i></div>"
   ]
  }
 ],
 "metadata": {
  "kernelspec": {
   "display_name": "Python 3 (ipykernel)",
   "language": "python",
   "name": "python3"
  },
  "language_info": {
   "codemirror_mode": {
    "name": "ipython",
    "version": 3
   },
   "file_extension": ".py",
   "mimetype": "text/x-python",
   "name": "python",
   "nbconvert_exporter": "python",
   "pygments_lexer": "ipython3",
   "version": "3.12.3"
  }
 },
 "nbformat": 4,
 "nbformat_minor": 5
}
